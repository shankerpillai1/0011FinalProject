{
 "cells": [
  {
   "cell_type": "code",
   "execution_count": 2,
   "metadata": {},
   "outputs": [
    {
     "data": {
      "text/html": [
       "<div>\n",
       "<style scoped>\n",
       "    .dataframe tbody tr th:only-of-type {\n",
       "        vertical-align: middle;\n",
       "    }\n",
       "\n",
       "    .dataframe tbody tr th {\n",
       "        vertical-align: top;\n",
       "    }\n",
       "\n",
       "    .dataframe thead th {\n",
       "        text-align: right;\n",
       "    }\n",
       "</style>\n",
       "<table border=\"1\" class=\"dataframe\">\n",
       "  <thead>\n",
       "    <tr style=\"text-align: right;\">\n",
       "      <th></th>\n",
       "      <th>neighborhood_municipality</th>\n",
       "      <th>infections</th>\n",
       "      <th>reinfections</th>\n",
       "      <th>deaths</th>\n",
       "      <th>hospitalizations</th>\n",
       "      <th>pcr_tests</th>\n",
       "      <th>positive_pcr_tests</th>\n",
       "      <th>update_date</th>\n",
       "    </tr>\n",
       "  </thead>\n",
       "  <tbody>\n",
       "    <tr>\n",
       "      <th>0</th>\n",
       "      <td>Aleppo</td>\n",
       "      <td>2123</td>\n",
       "      <td>152</td>\n",
       "      <td>19</td>\n",
       "      <td>27</td>\n",
       "      <td>2858</td>\n",
       "      <td>319</td>\n",
       "      <td>2023-04-03</td>\n",
       "    </tr>\n",
       "    <tr>\n",
       "      <th>1</th>\n",
       "      <td>Allegheny Center (Pittsburgh)</td>\n",
       "      <td>1695</td>\n",
       "      <td>195</td>\n",
       "      <td>5</td>\n",
       "      <td>18</td>\n",
       "      <td>3124</td>\n",
       "      <td>414</td>\n",
       "      <td>2023-04-03</td>\n",
       "    </tr>\n",
       "    <tr>\n",
       "      <th>2</th>\n",
       "      <td>Allegheny West (Pittsburgh)</td>\n",
       "      <td>523</td>\n",
       "      <td>76</td>\n",
       "      <td>0</td>\n",
       "      <td>5</td>\n",
       "      <td>1132</td>\n",
       "      <td>119</td>\n",
       "      <td>2023-04-03</td>\n",
       "    </tr>\n",
       "    <tr>\n",
       "      <th>3</th>\n",
       "      <td>Allentown (Pittsburgh)</td>\n",
       "      <td>3523</td>\n",
       "      <td>582</td>\n",
       "      <td>2</td>\n",
       "      <td>39</td>\n",
       "      <td>5145</td>\n",
       "      <td>680</td>\n",
       "      <td>2023-04-03</td>\n",
       "    </tr>\n",
       "    <tr>\n",
       "      <th>4</th>\n",
       "      <td>Arlington (Pittsburgh)</td>\n",
       "      <td>2597</td>\n",
       "      <td>396</td>\n",
       "      <td>9</td>\n",
       "      <td>35</td>\n",
       "      <td>4043</td>\n",
       "      <td>502</td>\n",
       "      <td>2023-04-03</td>\n",
       "    </tr>\n",
       "  </tbody>\n",
       "</table>\n",
       "</div>"
      ],
      "text/plain": [
       "       neighborhood_municipality  infections  reinfections  deaths  \\\n",
       "0                         Aleppo        2123           152      19   \n",
       "1  Allegheny Center (Pittsburgh)        1695           195       5   \n",
       "2    Allegheny West (Pittsburgh)         523            76       0   \n",
       "3         Allentown (Pittsburgh)        3523           582       2   \n",
       "4         Arlington (Pittsburgh)        2597           396       9   \n",
       "\n",
       "   hospitalizations  pcr_tests  positive_pcr_tests update_date  \n",
       "0                27       2858                 319  2023-04-03  \n",
       "1                18       3124                 414  2023-04-03  \n",
       "2                 5       1132                 119  2023-04-03  \n",
       "3                39       5145                 680  2023-04-03  \n",
       "4                35       4043                 502  2023-04-03  "
      ]
     },
     "execution_count": 2,
     "metadata": {},
     "output_type": "execute_result"
    }
   ],
   "source": [
    "import pandas as pd\n",
    "ad = pd.read_csv(\"nhoodcoviddeaths.csv\")\n",
    "d1=pd.DataFrame(ad)\n",
    "d1.head()\n"
   ]
  },
  {
   "cell_type": "code",
   "execution_count": 3,
   "metadata": {},
   "outputs": [
    {
     "name": "stdout",
     "output_type": "stream",
     "text": [
      "{19: 3, 5: 14, 0: 22, 2: 16, 9: 5, 3: 13, 15: 4, 79: 1, 22: 2, 7: 11, 6: 16, 12: 4, 111: 1, 27: 5, 1: 15, 24: 2, 16: 4, 17: 2, 4: 9, 13: 7, 30: 2, 11: 7, 21: 3, 14: 2, 18: 3, 10: 5, 8: 7, 38: 3, 42: 1, 29: 1, 20: 1, 25: 1, 32: 2, 23: 3, 57: 1, 51: 1, 151: 2, 126: 1, 61: 1, 100: 1, 28: 1, 127: 1, 40: 2, 75: 1, 55: 1, 26: 1, 163: 1, 87: 1, 62: 1, 67: 1, 53: 1, 69: 1, 39: 1, 46: 1, 84: 1, 59: 1}\n"
     ]
    }
   ],
   "source": [
    "import pandas as pd\n",
    "ad=pd.read_csv(\"nhoodcoviddeaths.csv\")\n",
    "d1=pd.DataFrame(ad)\n",
    "dc1=dict()\n",
    "\n",
    "for index, row in d1.iterrows():\n",
    "    s1=row['deaths']\n",
    "    if s1 not in dc1:\n",
    "        dc1[s1]=1\n",
    "    else:\n",
    "        dc1[s1]=dc1[s1]+1\n",
    "        \n",
    "print(dc1)"
   ]
  },
  {
   "cell_type": "code",
   "execution_count": 17,
   "metadata": {},
   "outputs": [
    {
     "name": "stdout",
     "output_type": "stream",
     "text": [
      "The lowest number of covid related deaths being 0, were in the following 22 neighborhoods:\n",
      "- Allegheny West (Pittsburgh)\n",
      "- Ben Avon Heights\n",
      "- Chateau (Pittsburgh)\n",
      "- Emsworth\n",
      "- Esplen (Pittsburgh)\n",
      "- Friendship (Pittsburgh)\n",
      "- Glen Osborne\n",
      "- Glenfield\n",
      "- Haysville\n",
      "- Homewood West (Pittsburgh)\n",
      "- Kilbuck\n",
      "- Mcdonald\n",
      "- Mt. Oliver (Pittsburgh)\n",
      "- North Shore (Pittsburgh)\n",
      "- Pennsbury Village\n",
      "- Polish Hill (Pittsburgh)\n",
      "- Sewickley Hills\n",
      "- South Shore (Pittsburgh)\n",
      "- Thornburg\n",
      "- Trafford\n",
      "- Undefined (Pittsburgh)\n",
      "- West End (Pittsburgh)\n"
     ]
    }
   ],
   "source": [
    "import pandas as pd\n",
    "\n",
    "filename = \"nhoodcoviddeaths.csv\"  # replace with your CSV file name\n",
    "value_column = 'deaths'    # replace with the name of the column you want to search for the lowest value\n",
    "name_column = 'neighborhood_municipality'   # replace with the name of the column containing the names\n",
    "\n",
    "df = pd.read_csv(filename)\n",
    "\n",
    "min_value = df[value_column].min()\n",
    "\n",
    "\n",
    "min_rows = df.loc[df[value_column] == min_value]\n",
    "\n",
    "\n",
    "product_names = min_rows[name_column].tolist()\n",
    "\n",
    "\n",
    "if len(product_names) == 1:\n",
    "    print(f'The lowest number of covid related {value_column} is {min_value}, '\n",
    "          f'associated with the {name_column} \"{product_names[0]}\".')\n",
    "else:\n",
    "    print(f'The lowest number of covid related {value_column} being {min_value}, '\n",
    "          f'were in the following {len(product_names)} neighborhoods:')\n",
    "    for name in product_names:\n",
    "        print(f'- {name}')"
   ]
  },
  {
   "cell_type": "code",
   "execution_count": null,
   "metadata": {},
   "outputs": [],
   "source": []
  }
 ],
 "metadata": {
  "kernelspec": {
   "display_name": "Python 3",
   "language": "python",
   "name": "python3"
  },
  "language_info": {
   "codemirror_mode": {
    "name": "ipython",
    "version": 3
   },
   "file_extension": ".py",
   "mimetype": "text/x-python",
   "name": "python",
   "nbconvert_exporter": "python",
   "pygments_lexer": "ipython3",
   "version": "3.8.3"
  }
 },
 "nbformat": 4,
 "nbformat_minor": 4
}
